{
 "cells": [
  {
   "cell_type": "markdown",
   "id": "f1136dec",
   "metadata": {},
   "source": [
    "# <center>Data Science Tools and Ecosystem</center> "
   ]
  },
  {
   "cell_type": "markdown",
   "id": "9652ad97",
   "metadata": {},
   "source": [
    "In this notebook, Data Science Tools and Ecosystem are summarized."
   ]
  },
  {
   "cell_type": "markdown",
   "id": "f0ef5650",
   "metadata": {},
   "source": [
    "**Objectives**\n",
    "\n",
    "- List popular languages\n",
    "- List common libraries used \n",
    "- List some IDE\n",
    "- Make some arithmetic operations"
   ]
  },
  {
   "cell_type": "markdown",
   "id": "a6eec70e",
   "metadata": {},
   "source": [
    "## Author\n",
    "QuantBender"
   ]
  },
  {
   "cell_type": "markdown",
   "id": "ff37530f",
   "metadata": {},
   "source": [
    "Some of the popular languages that Data Scientists use are:\n",
    "\n",
    "1. Python\n",
    "2. R\n",
    "3. Scala"
   ]
  },
  {
   "cell_type": "markdown",
   "id": "99f9e02a",
   "metadata": {},
   "source": [
    "Some of the commonly used libraries used by Data Scientists include:\n",
    "\n",
    "1. Numpy\n",
    "2. Pandas\n",
    "2. Scikit-learn"
   ]
  },
  {
   "cell_type": "markdown",
   "id": "4018a690",
   "metadata": {},
   "source": [
    "|Data Science Tools|\n",
    "|------------------|\n",
    "|Visual Studio Code|\n",
    "|Jupyter Lab       |\n",
    "|Jupyter Notebook  |"
   ]
  },
  {
   "cell_type": "markdown",
   "id": "bda294d2",
   "metadata": {},
   "source": [
    "### Below are a few examples of evaluating arithmetic expressions in Python."
   ]
  },
  {
   "cell_type": "code",
   "execution_count": 2,
   "id": "d87c31ca",
   "metadata": {},
   "outputs": [
    {
     "data": {
      "text/plain": [
       "17"
      ]
     },
     "execution_count": 2,
     "metadata": {},
     "output_type": "execute_result"
    }
   ],
   "source": [
    "#This a simple arithmetic expression to mutiply then add integers.\n",
    "(3*4)+5"
   ]
  },
  {
   "cell_type": "code",
   "execution_count": 4,
   "id": "481f7cf4",
   "metadata": {},
   "outputs": [
    {
     "data": {
      "text/plain": [
       "3.3333333333333335"
      ]
     },
     "execution_count": 4,
     "metadata": {},
     "output_type": "execute_result"
    }
   ],
   "source": [
    "#  This will convert 200 minutes to hours by diving by 60.\n",
    "200/60"
   ]
  }
 ],
 "metadata": {
  "kernelspec": {
   "display_name": "base",
   "language": "python",
   "name": "python3"
  },
  "language_info": {
   "codemirror_mode": {
    "name": "ipython",
    "version": 3
   },
   "file_extension": ".py",
   "mimetype": "text/x-python",
   "name": "python",
   "nbconvert_exporter": "python",
   "pygments_lexer": "ipython3",
   "version": "3.12.7"
  }
 },
 "nbformat": 4,
 "nbformat_minor": 5
}
